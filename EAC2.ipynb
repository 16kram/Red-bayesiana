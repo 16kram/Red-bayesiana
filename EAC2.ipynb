{
  "nbformat": 4,
  "nbformat_minor": 0,
  "metadata": {
    "colab": {
      "provenance": []
    },
    "kernelspec": {
      "name": "python3",
      "display_name": "Python 3"
    },
    "language_info": {
      "name": "python"
    }
  },
  "cells": [
    {
      "cell_type": "code",
      "execution_count": 1,
      "metadata": {
        "colab": {
          "base_uri": "https://localhost:8080/"
        },
        "id": "M-97k8yi62f-",
        "outputId": "4768b4f0-fdff-4a9d-f506-5d741339d4a3"
      },
      "outputs": [
        {
          "output_type": "stream",
          "name": "stdout",
          "text": [
            "Collecting pyagrum\n",
            "  Downloading pyAgrum-1.16.0-cp310-cp310-manylinux2014_x86_64.whl.metadata (4.1 kB)\n",
            "Requirement already satisfied: numpy in /usr/local/lib/python3.10/dist-packages (from pyagrum) (1.26.4)\n",
            "Requirement already satisfied: matplotlib in /usr/local/lib/python3.10/dist-packages (from pyagrum) (3.7.1)\n",
            "Requirement already satisfied: pydot in /usr/local/lib/python3.10/dist-packages (from pyagrum) (3.0.2)\n",
            "Requirement already satisfied: contourpy>=1.0.1 in /usr/local/lib/python3.10/dist-packages (from matplotlib->pyagrum) (1.3.0)\n",
            "Requirement already satisfied: cycler>=0.10 in /usr/local/lib/python3.10/dist-packages (from matplotlib->pyagrum) (0.12.1)\n",
            "Requirement already satisfied: fonttools>=4.22.0 in /usr/local/lib/python3.10/dist-packages (from matplotlib->pyagrum) (4.54.1)\n",
            "Requirement already satisfied: kiwisolver>=1.0.1 in /usr/local/lib/python3.10/dist-packages (from matplotlib->pyagrum) (1.4.7)\n",
            "Requirement already satisfied: packaging>=20.0 in /usr/local/lib/python3.10/dist-packages (from matplotlib->pyagrum) (24.1)\n",
            "Requirement already satisfied: pillow>=6.2.0 in /usr/local/lib/python3.10/dist-packages (from matplotlib->pyagrum) (10.4.0)\n",
            "Requirement already satisfied: pyparsing>=2.3.1 in /usr/local/lib/python3.10/dist-packages (from matplotlib->pyagrum) (3.1.4)\n",
            "Requirement already satisfied: python-dateutil>=2.7 in /usr/local/lib/python3.10/dist-packages (from matplotlib->pyagrum) (2.8.2)\n",
            "Requirement already satisfied: six>=1.5 in /usr/local/lib/python3.10/dist-packages (from python-dateutil>=2.7->matplotlib->pyagrum) (1.16.0)\n",
            "Downloading pyAgrum-1.16.0-cp310-cp310-manylinux2014_x86_64.whl (6.0 MB)\n",
            "\u001b[2K   \u001b[90m━━━━━━━━━━━━━━━━━━━━━━━━━━━━━━━━━━━━━━━━\u001b[0m \u001b[32m6.0/6.0 MB\u001b[0m \u001b[31m22.7 MB/s\u001b[0m eta \u001b[36m0:00:00\u001b[0m\n",
            "\u001b[?25hInstalling collected packages: pyagrum\n",
            "Successfully installed pyagrum-1.16.0\n"
          ]
        }
      ],
      "source": [
        "!pip install pyagrum"
      ]
    },
    {
      "cell_type": "code",
      "execution_count": 2,
      "metadata": {
        "id": "M8ixAnlB7ev4"
      },
      "outputs": [],
      "source": [
        "import pyAgrum as gum\n",
        "import pyAgrum.lib.notebook as gnb"
      ]
    },
    {
      "cell_type": "code",
      "source": [
        "#Creamos la red bn con el nombre 'Rendimiento academico'\n",
        "bn=gum.BayesNet(\"Rendimiento academico\")\n",
        "\n",
        "#Creamos los nodos como variables\n",
        "ns,er,pec,br,ae=[bn.add(name,2) for name in(\"Nivell de son\",\"Estudi regular\",\"participacio en classe\",\"Bon rendiment\",\"Activitats extraescolars\")]\n",
        "\n",
        "#Creamos los arcos\n",
        "for arc in[(er,br),(ae,br),(pec,br),(ns,er),(er,pec)]:\n",
        "  bn.addArc(arc[0],arc[1])\n",
        "\n",
        "\n",
        "#Rellenamos las tablas de probabilidad condicional (CPT) para poder hacer la inferencia\n",
        "bn.cpt(ns).fillWith([0.2,0.8])\n",
        "bn.cpt(ae).fillWith([0.7,0.3])\n",
        "\n",
        "bn.cpt(er)[0]=[0.6,0.4]\n",
        "bn.cpt(er)[1]=[0.3,0.7]\n",
        "\n",
        "bn.cpt(pec)[0]=[0.8,0.2]\n",
        "bn.cpt(pec)[1]=[0.3,0.7]\n",
        "\n",
        "bn.cpt(br)[0,0,0] = [0.9, 0.1]\n",
        "bn.cpt(br)[0,0,1] = [0.5, 0.5]\n",
        "bn.cpt(br)[0,1,0] = [0.7, 0.3]\n",
        "bn.cpt(br)[0,1,1] = [0.3, 0.7]\n",
        "bn.cpt(br)[1,0,0] = [0.6, 0.4]\n",
        "bn.cpt(br)[1,0,1] = [0.2, 0.8]\n",
        "bn.cpt(br)[1,1,0] = [0.4, 0.6]\n",
        "bn.cpt(br)[1,1,1] = [0.1, 0.9]\n",
        "\n",
        "\n",
        "#Número de dígitos en las tablas de probabilidad\n",
        "gum.config['notebook','potential_visible_digits'] = 2\n",
        "\n",
        "#Mostramos la red y las CPT\n",
        "gnb.sideBySide(bn.cpt(ns),bn.cpt(er),captions=['P(Nivell de son)','P(Estudi regular|Nivell son)']) # 1a fila\n",
        "gnb.sideBySide(bn.cpt(ae),gnb.getBN(bn,size=\"5!\"),bn.cpt(pec),captions=['P(Activitats extraescolars)',\"\",'P(Participacio en classe|Estudi regular)']) # 2a fila\n",
        "gnb.sideBySide(bn.cpt(br),captions=['P(Bon rendiment|Estudi regular,Activitats extraescolars,Participacio classe)']) # 3a fila\n",
        "\n"
      ],
      "metadata": {
        "colab": {
          "base_uri": "https://localhost:8080/",
          "height": 712
        },
        "id": "ONyO9n7HHQCG",
        "outputId": "0e139ea2-7470-4148-8bb9-7626ba864a88"
      },
      "execution_count": 3,
      "outputs": [
        {
          "output_type": "display_data",
          "data": {
            "text/plain": [
              "<IPython.core.display.HTML object>"
            ],
            "text/html": [
              "<table style=\"border-style: hidden; border-collapse: collapse;\" width=\"100%\"><tr><td style=\"border-top:hidden;border-bottom:hidden;vertical-align:middle;\"><div align=\"center\" style=\"vertical-align:middle;\"><table style=\"border:1px solid black;border-collapse: collapse;\">\n",
              "<tr style='border:1px solid black;color:black;background-color:#808080'>\n",
              "      <th colspan='2'><center>Nivell de son</center></th></tr>\n",
              "<tr><th style='border:1px solid black;border-bottom-style: double;color:black;background-color:#BBBBBB'>\n",
              "      <center>0</center></th><th style='border:1px solid black;border-bottom-style: double;color:black;background-color:#BBBBBB'>\n",
              "      <center>1</center></th></tr>\n",
              "<tr><td style='color:black;background-color:#e59864;text-align:right;padding: 3px;'>0.20</td><td style='color:black;background-color:#98e564;text-align:right;padding: 3px;'>0.80</td></tr>\n",
              "</table><br><small><i>P(Nivell de son)</i></small></div></td><td style=\"border-top:hidden;border-bottom:hidden;vertical-align:middle;\"><div align=\"center\" style=\"vertical-align:middle;\"><table style=\"border:1px solid black;border-collapse: collapse;\">\n",
              "<tr><th colspan='1'></th>\n",
              "      <th colspan='2' style='border:1px solid black;color:black;background-color:#808080;'><center>Estudi regular</center>\n",
              "      </th></tr>\n",
              "<tr><th style='border:1px solid black;color:black;background-color:#808080'><center>Nivell de son</center></th><th style='border:1px solid black;border-bottom-style: double;color:black;background-color:#BBBBBB'>\n",
              "      <center>0</center></th><th style='border:1px solid black;border-bottom-style: double;color:black;background-color:#BBBBBB'>\n",
              "      <center>1</center></th></tr>\n",
              "<tr><th style='border:1px solid black;color:black;background-color:#BBBBBB'><center>0</center></th><td style='color:black;background-color:#b2cb64;text-align:right;padding: 3px;'>0.60</td><td style='color:black;background-color:#cbb264;text-align:right;padding: 3px;'>0.40</td></tr>\n",
              "<tr><th style='border:1px solid black;color:black;background-color:#BBBBBB'><center>1</center></th><td style='color:black;background-color:#d8a564;text-align:right;padding: 3px;'>0.30</td><td style='color:black;background-color:#a5d864;text-align:right;padding: 3px;'>0.70</td></tr>\n",
              "</table><br><small><i>P(Estudi regular|Nivell son)</i></small></div></td></tr></table>"
            ]
          },
          "metadata": {}
        },
        {
          "output_type": "display_data",
          "data": {
            "text/plain": [
              "<IPython.core.display.HTML object>"
            ],
            "text/html": [
              "<table style=\"border-style: hidden; border-collapse: collapse;\" width=\"100%\"><tr><td style=\"border-top:hidden;border-bottom:hidden;vertical-align:middle;\"><div align=\"center\" style=\"vertical-align:middle;\"><table style=\"border:1px solid black;border-collapse: collapse;\">\n",
              "<tr style='border:1px solid black;color:black;background-color:#808080'>\n",
              "      <th colspan='2'><center>Activitats extraescolars</center></th></tr>\n",
              "<tr><th style='border:1px solid black;border-bottom-style: double;color:black;background-color:#BBBBBB'>\n",
              "      <center>0</center></th><th style='border:1px solid black;border-bottom-style: double;color:black;background-color:#BBBBBB'>\n",
              "      <center>1</center></th></tr>\n",
              "<tr><td style='color:black;background-color:#a5d864;text-align:right;padding: 3px;'>0.70</td><td style='color:black;background-color:#d8a564;text-align:right;padding: 3px;'>0.30</td></tr>\n",
              "</table><br><small><i>P(Activitats extraescolars)</i></small></div></td><td style=\"border-top:hidden;border-bottom:hidden;vertical-align:middle;\"><div align=\"center\" style=\"vertical-align:middle;\"><svg xmlns=\"http://www.w3.org/2000/svg\" xmlns:xlink=\"http://www.w3.org/1999/xlink\" width=\"360pt\" height=\"222pt\" viewBox=\"0.00 0.00 360.00 221.60\">\n",
              "<g id=\"graph0\" class=\"graph\" transform=\"scale(0.85 0.85) rotate(0) translate(4 256)\">\n",
              "<title>G</title>\n",
              "<!-- Nivell de son -->\n",
              "<g id=\"node1\" class=\"node\">\n",
              "<title>Nivell de son</title>\n",
              "<g id=\"a_node1\"><a xlink:title=\"(0) Nivell de son\">\n",
              "<ellipse fill=\"#404040\" stroke=\"#4a4a4a\" cx=\"143.44\" cy=\"-234\" rx=\"57.69\" ry=\"18\"/>\n",
              "<text text-anchor=\"middle\" x=\"143.44\" y=\"-230.3\" font-family=\"Times,serif\" font-size=\"14.00\" fill=\"white\">Nivell de son</text>\n",
              "</a>\n",
              "</g>\n",
              "</g>\n",
              "<!-- Estudi regular -->\n",
              "<g id=\"node5\" class=\"node\">\n",
              "<title>Estudi regular</title>\n",
              "<g id=\"a_node5\"><a xlink:title=\"(1) Estudi regular\">\n",
              "<ellipse fill=\"#404040\" stroke=\"#4a4a4a\" cx=\"143.44\" cy=\"-162\" rx=\"60.39\" ry=\"18\"/>\n",
              "<text text-anchor=\"middle\" x=\"143.44\" y=\"-158.3\" font-family=\"Times,serif\" font-size=\"14.00\" fill=\"white\">Estudi regular</text>\n",
              "</a>\n",
              "</g>\n",
              "</g>\n",
              "<!-- Nivell de son&#45;&gt;Estudi regular -->\n",
              "<g id=\"edge1\" class=\"edge\">\n",
              "<title>Nivell de son-&gt;Estudi regular</title>\n",
              "<g id=\"a_edge1\"><a xlink:title=\"0 → 1\">\n",
              "<path fill=\"none\" stroke=\"#4a4a4a\" d=\"M143.44,-215.7C143.44,-207.98 143.44,-198.71 143.44,-190.11\"/>\n",
              "<polygon fill=\"#4a4a4a\" stroke=\"#4a4a4a\" points=\"146.94,-190.1 143.44,-180.1 139.94,-190.1 146.94,-190.1\"/>\n",
              "</a>\n",
              "</g>\n",
              "</g>\n",
              "<!-- participacio en classe -->\n",
              "<g id=\"node2\" class=\"node\">\n",
              "<title>participacio en classe</title>\n",
              "<g id=\"a_node2\"><a xlink:title=\"(2) participacio en classe\">\n",
              "<ellipse fill=\"#404040\" stroke=\"#4a4a4a\" cx=\"86.44\" cy=\"-90\" rx=\"86.38\" ry=\"18\"/>\n",
              "<text text-anchor=\"middle\" x=\"86.44\" y=\"-86.3\" font-family=\"Times,serif\" font-size=\"14.00\" fill=\"white\">participacio en classe</text>\n",
              "</a>\n",
              "</g>\n",
              "</g>\n",
              "<!-- Bon rendiment -->\n",
              "<g id=\"node4\" class=\"node\">\n",
              "<title>Bon rendiment</title>\n",
              "<g id=\"a_node4\"><a xlink:title=\"(3) Bon rendiment\">\n",
              "<ellipse fill=\"#404040\" stroke=\"#4a4a4a\" cx=\"200.44\" cy=\"-18\" rx=\"63.89\" ry=\"18\"/>\n",
              "<text text-anchor=\"middle\" x=\"200.44\" y=\"-14.3\" font-family=\"Times,serif\" font-size=\"14.00\" fill=\"white\">Bon rendiment</text>\n",
              "</a>\n",
              "</g>\n",
              "</g>\n",
              "<!-- participacio en classe&#45;&gt;Bon rendiment -->\n",
              "<g id=\"edge4\" class=\"edge\">\n",
              "<title>participacio en classe-&gt;Bon rendiment</title>\n",
              "<g id=\"a_edge4\"><a xlink:title=\"2 → 3\">\n",
              "<path fill=\"none\" stroke=\"#4a4a4a\" d=\"M112.88,-72.76C128.79,-63 149.21,-50.46 166.32,-39.95\"/>\n",
              "<polygon fill=\"#4a4a4a\" stroke=\"#4a4a4a\" points=\"168.24,-42.88 174.93,-34.67 164.58,-36.92 168.24,-42.88\"/>\n",
              "</a>\n",
              "</g>\n",
              "</g>\n",
              "<!-- Activitats extraescolars -->\n",
              "<g id=\"node3\" class=\"node\">\n",
              "<title>Activitats extraescolars</title>\n",
              "<g id=\"a_node3\"><a xlink:title=\"(4) Activitats extraescolars\">\n",
              "<ellipse fill=\"#404040\" stroke=\"#4a4a4a\" cx=\"321.44\" cy=\"-90\" rx=\"92.88\" ry=\"18\"/>\n",
              "<text text-anchor=\"middle\" x=\"321.44\" y=\"-86.3\" font-family=\"Times,serif\" font-size=\"14.00\" fill=\"white\">Activitats extraescolars</text>\n",
              "</a>\n",
              "</g>\n",
              "</g>\n",
              "<!-- Activitats extraescolars&#45;&gt;Bon rendiment -->\n",
              "<g id=\"edge3\" class=\"edge\">\n",
              "<title>Activitats extraescolars-&gt;Bon rendiment</title>\n",
              "<g id=\"a_edge3\"><a xlink:title=\"4 → 3\">\n",
              "<path fill=\"none\" stroke=\"#4a4a4a\" d=\"M293.38,-72.76C276.22,-62.84 254.12,-50.05 235.77,-39.44\"/>\n",
              "<polygon fill=\"#4a4a4a\" stroke=\"#4a4a4a\" points=\"237.52,-36.4 227.11,-34.43 234.01,-42.46 237.52,-36.4\"/>\n",
              "</a>\n",
              "</g>\n",
              "</g>\n",
              "<!-- Estudi regular&#45;&gt;participacio en classe -->\n",
              "<g id=\"edge2\" class=\"edge\">\n",
              "<title>Estudi regular-&gt;participacio en classe</title>\n",
              "<g id=\"a_edge2\"><a xlink:title=\"1 → 2\">\n",
              "<path fill=\"none\" stroke=\"#4a4a4a\" d=\"M129.93,-144.41C123.01,-135.91 114.43,-125.37 106.73,-115.91\"/>\n",
              "<polygon fill=\"#4a4a4a\" stroke=\"#4a4a4a\" points=\"109.28,-113.5 100.25,-107.96 103.85,-117.92 109.28,-113.5\"/>\n",
              "</a>\n",
              "</g>\n",
              "</g>\n",
              "<!-- Estudi regular&#45;&gt;Bon rendiment -->\n",
              "<g id=\"edge5\" class=\"edge\">\n",
              "<title>Estudi regular-&gt;Bon rendiment</title>\n",
              "<g id=\"a_edge5\"><a xlink:title=\"1 → 3\">\n",
              "<path fill=\"none\" stroke=\"#4a4a4a\" d=\"M158.05,-144.44C166.08,-134.51 175.58,-121.26 181.44,-108 190.16,-88.28 194.98,-64.3 197.58,-46.2\"/>\n",
              "<polygon fill=\"#4a4a4a\" stroke=\"#4a4a4a\" points=\"201.09,-46.41 198.9,-36.04 194.14,-45.51 201.09,-46.41\"/>\n",
              "</a>\n",
              "</g>\n",
              "</g>\n",
              "</g>\n",
              "</svg><br><small><i></i></small></div></td><td style=\"border-top:hidden;border-bottom:hidden;vertical-align:middle;\"><div align=\"center\" style=\"vertical-align:middle;\"><table style=\"border:1px solid black;border-collapse: collapse;\">\n",
              "<tr><th colspan='1'></th>\n",
              "      <th colspan='2' style='border:1px solid black;color:black;background-color:#808080;'><center>participacio en classe</center>\n",
              "      </th></tr>\n",
              "<tr><th style='border:1px solid black;color:black;background-color:#808080'><center>Estudi regular</center></th><th style='border:1px solid black;border-bottom-style: double;color:black;background-color:#BBBBBB'>\n",
              "      <center>0</center></th><th style='border:1px solid black;border-bottom-style: double;color:black;background-color:#BBBBBB'>\n",
              "      <center>1</center></th></tr>\n",
              "<tr><th style='border:1px solid black;color:black;background-color:#BBBBBB'><center>0</center></th><td style='color:black;background-color:#98e564;text-align:right;padding: 3px;'>0.80</td><td style='color:black;background-color:#e59864;text-align:right;padding: 3px;'>0.20</td></tr>\n",
              "<tr><th style='border:1px solid black;color:black;background-color:#BBBBBB'><center>1</center></th><td style='color:black;background-color:#d8a564;text-align:right;padding: 3px;'>0.30</td><td style='color:black;background-color:#a5d864;text-align:right;padding: 3px;'>0.70</td></tr>\n",
              "</table><br><small><i>P(Participacio en classe|Estudi regular)</i></small></div></td></tr></table>"
            ]
          },
          "metadata": {}
        },
        {
          "output_type": "display_data",
          "data": {
            "text/plain": [
              "<IPython.core.display.HTML object>"
            ],
            "text/html": [
              "<table style=\"border-style: hidden; border-collapse: collapse;\" width=\"100%\"><tr><td style=\"border-top:hidden;border-bottom:hidden;vertical-align:middle;\"><div align=\"center\" style=\"vertical-align:middle;\"><table style=\"border:1px solid black;border-collapse: collapse;\">\n",
              "<tr><th colspan='3'></th>\n",
              "      <th colspan='2' style='border:1px solid black;color:black;background-color:#808080;'><center>Bon rendiment</center>\n",
              "      </th></tr>\n",
              "<tr><th style='border:1px solid black;color:black;background-color:#808080'><center>participacio en classe</center></th><th style='border:1px solid black;color:black;background-color:#808080'><center>Activitats extraescolars</center></th><th style='border:1px solid black;color:black;background-color:#808080'><center>Estudi regular</center></th><th style='border:1px solid black;border-bottom-style: double;color:black;background-color:#BBBBBB'>\n",
              "      <center>0</center></th><th style='border:1px solid black;border-bottom-style: double;color:black;background-color:#BBBBBB'>\n",
              "      <center>1</center></th></tr>\n",
              "<tr><th style='border:1px solid black;color:black;background-color:#BBBBBB;' rowspan = '4'>\n",
              "            <center>0</center></th><th style='border:1px solid black;color:black;background-color:#BBBBBB;' rowspan = '2'>\n",
              "            <center>0</center></th><th style='border:1px solid black;color:black;background-color:#BBBBBB'><center>0</center></th><td style='color:black;background-color:#8bf264;text-align:right;padding: 3px;'>0.90</td><td style='color:black;background-color:#f28b64;text-align:right;padding: 3px;'>0.10</td></tr>\n",
              "<tr><th style='border:1px solid black;color:black;background-color:#BBBBBB'><center>1</center></th><td style='color:black;background-color:#bfbf64;text-align:right;padding: 3px;'>0.50</td><td style='color:black;background-color:#bfbf64;text-align:right;padding: 3px;'>0.50</td></tr>\n",
              "<tr><th style='border:1px solid black;color:black;background-color:#BBBBBB;' rowspan = '2'>\n",
              "            <center>1</center></th><th style='border:1px solid black;color:black;background-color:#BBBBBB'><center>0</center></th><td style='color:black;background-color:#a5d864;text-align:right;padding: 3px;'>0.70</td><td style='color:black;background-color:#d8a564;text-align:right;padding: 3px;'>0.30</td></tr>\n",
              "<tr><th style='border:1px solid black;color:black;background-color:#BBBBBB'><center>1</center></th><td style='color:black;background-color:#d8a564;text-align:right;padding: 3px;'>0.30</td><td style='color:black;background-color:#a5d864;text-align:right;padding: 3px;'>0.70</td></tr>\n",
              "<tr><th style='border:1px solid black;color:black;background-color:#BBBBBB;' rowspan = '4'>\n",
              "            <center>1</center></th><th style='border:1px solid black;color:black;background-color:#BBBBBB;' rowspan = '2'>\n",
              "            <center>0</center></th><th style='border:1px solid black;color:black;background-color:#BBBBBB'><center>0</center></th><td style='color:black;background-color:#b2cb64;text-align:right;padding: 3px;'>0.60</td><td style='color:black;background-color:#cbb264;text-align:right;padding: 3px;'>0.40</td></tr>\n",
              "<tr><th style='border:1px solid black;color:black;background-color:#BBBBBB'><center>1</center></th><td style='color:black;background-color:#e59864;text-align:right;padding: 3px;'>0.20</td><td style='color:black;background-color:#98e564;text-align:right;padding: 3px;'>0.80</td></tr>\n",
              "<tr><th style='border:1px solid black;color:black;background-color:#BBBBBB;' rowspan = '2'>\n",
              "            <center>1</center></th><th style='border:1px solid black;color:black;background-color:#BBBBBB'><center>0</center></th><td style='color:black;background-color:#cbb264;text-align:right;padding: 3px;'>0.40</td><td style='color:black;background-color:#b2cb64;text-align:right;padding: 3px;'>0.60</td></tr>\n",
              "<tr><th style='border:1px solid black;color:black;background-color:#BBBBBB'><center>1</center></th><td style='color:black;background-color:#f28b64;text-align:right;padding: 3px;'>0.10</td><td style='color:black;background-color:#8bf264;text-align:right;padding: 3px;'>0.90</td></tr>\n",
              "</table><br><small><i>P(Bon rendiment|Estudi regular,Activitats extraescolars,Participacio classe)</i></small></div></td></tr></table>"
            ]
          },
          "metadata": {}
        }
      ]
    },
    {
      "cell_type": "markdown",
      "source": [
        "Quina és la probabilitat que un estudiant tingui un bon rendiment acadèmic si sabem que participa en activitats extraescolars i té un bon nivell de son?"
      ],
      "metadata": {
        "id": "wG7iLqhDgtRh"
      }
    },
    {
      "cell_type": "code",
      "source": [
        "ie=gum.LazyPropagation(bn)\n",
        "gum.config['notebook','potential_visible_digits']=4\n",
        "ie.setEvidence({ae:1,ns:1})\n",
        "ie.makeInference()\n",
        "#Probabilidades a posterior de saber que ae=1 y ns=1\n",
        "posterior=ie.posterior(br)\n",
        "posterior"
      ],
      "metadata": {
        "colab": {
          "base_uri": "https://localhost:8080/",
          "height": 83
        },
        "id": "4Nk1qLI7XybB",
        "outputId": "3270bf23-1597-41a7-cc5c-76bfda0a1a05"
      },
      "execution_count": 4,
      "outputs": [
        {
          "output_type": "execute_result",
          "data": {
            "text/plain": [
              "(pyAgrum.Potential<double>@0x56c347746af0) \n",
              "  Bon rendiment    |\n",
              "0        |1        |\n",
              "---------|---------|\n",
              " 0.3040  | 0.6960  |"
            ],
            "text/html": [
              "<table style=\"border:1px solid black;border-collapse: collapse;\">\n",
              "<tr style='border:1px solid black;color:black;background-color:#808080'>\n",
              "      <th colspan='2'><center>Bon rendiment</center></th></tr>\n",
              "<tr><th style='border:1px solid black;border-bottom-style: double;color:black;background-color:#BBBBBB'>\n",
              "      <center>0</center></th><th style='border:1px solid black;border-bottom-style: double;color:black;background-color:#BBBBBB'>\n",
              "      <center>1</center></th></tr>\n",
              "<tr><td style='color:black;background-color:#d8a564;text-align:right;padding: 3px;'>0.3040</td><td style='color:black;background-color:#a5d864;text-align:right;padding: 3px;'>0.6960</td></tr>\n",
              "</table>"
            ]
          },
          "metadata": {},
          "execution_count": 4
        }
      ]
    },
    {
      "cell_type": "markdown",
      "source": [
        "Si un estudiant no té un bon nivell de son, quina és la probabilitat que tingui un bon rendiment acadèmic, sabent que estudia de manera regular?"
      ],
      "metadata": {
        "id": "AJ5SeCYUg61Y"
      }
    },
    {
      "cell_type": "code",
      "source": [
        "ie=gum.LazyPropagation(bn)\n",
        "gum.config['notebook','potential_visible_digits']=4\n",
        "ie.setEvidence({er:1,ns:0})\n",
        "ie.makeInference()\n",
        "#Probabilidades a posterior de saber que er=1 y ns=0\n",
        "posterior=ie.posterior(br)\n",
        "posterior"
      ],
      "metadata": {
        "colab": {
          "base_uri": "https://localhost:8080/",
          "height": 83
        },
        "id": "ALC7v_iGacRY",
        "outputId": "cc74b8ff-52c1-44bb-9161-486fded521ed"
      },
      "execution_count": 5,
      "outputs": [
        {
          "output_type": "execute_result",
          "data": {
            "text/plain": [
              "(pyAgrum.Potential<double>@0x56c346b45680) \n",
              "  Bon rendiment    |\n",
              "0        |1        |\n",
              "---------|---------|\n",
              " 0.2510  | 0.7490  |"
            ],
            "text/html": [
              "<table style=\"border:1px solid black;border-collapse: collapse;\">\n",
              "<tr style='border:1px solid black;color:black;background-color:#808080'>\n",
              "      <th colspan='2'><center>Bon rendiment</center></th></tr>\n",
              "<tr><th style='border:1px solid black;border-bottom-style: double;color:black;background-color:#BBBBBB'>\n",
              "      <center>0</center></th><th style='border:1px solid black;border-bottom-style: double;color:black;background-color:#BBBBBB'>\n",
              "      <center>1</center></th></tr>\n",
              "<tr><td style='color:black;background-color:#de9f64;text-align:right;padding: 3px;'>0.2510</td><td style='color:black;background-color:#9fde64;text-align:right;padding: 3px;'>0.7490</td></tr>\n",
              "</table>"
            ]
          },
          "metadata": {},
          "execution_count": 5
        }
      ]
    },
    {
      "cell_type": "markdown",
      "source": [
        "Quina és la probabilitat que un estudiant tingui un nivell de son adequat si sabem que té un bon rendiment acadèmic?"
      ],
      "metadata": {
        "id": "rmt0aQushA4C"
      }
    },
    {
      "cell_type": "code",
      "source": [
        "ie=gum.LazyPropagation(bn)\n",
        "gum.config['notebook','potential_visible_digits']=4\n",
        "ie.setEvidence({er:1})\n",
        "ie.makeInference()\n",
        "#Probabilidades a posterior de saber ns=1\n",
        "posterior=ie.posterior(ns)\n",
        "posterior"
      ],
      "metadata": {
        "colab": {
          "base_uri": "https://localhost:8080/",
          "height": 83
        },
        "id": "PWsXwLFta_6Y",
        "outputId": "a57e58eb-3f44-428a-c43c-d49599075439"
      },
      "execution_count": 6,
      "outputs": [
        {
          "output_type": "execute_result",
          "data": {
            "text/plain": [
              "(pyAgrum.Potential<double>@0x56c346fc0fa0) \n",
              "  Nivell de son    |\n",
              "0        |1        |\n",
              "---------|---------|\n",
              " 0.1250  | 0.8750  |"
            ],
            "text/html": [
              "<table style=\"border:1px solid black;border-collapse: collapse;\">\n",
              "<tr style='border:1px solid black;color:black;background-color:#808080'>\n",
              "      <th colspan='2'><center>Nivell de son</center></th></tr>\n",
              "<tr><th style='border:1px solid black;border-bottom-style: double;color:black;background-color:#BBBBBB'>\n",
              "      <center>0</center></th><th style='border:1px solid black;border-bottom-style: double;color:black;background-color:#BBBBBB'>\n",
              "      <center>1</center></th></tr>\n",
              "<tr><td style='color:black;background-color:#ef8f64;text-align:right;padding: 3px;'>0.1250</td><td style='color:black;background-color:#8fef64;text-align:right;padding: 3px;'>0.8750</td></tr>\n",
              "</table>"
            ]
          },
          "metadata": {},
          "execution_count": 6
        }
      ]
    },
    {
      "cell_type": "markdown",
      "source": [
        "Si un estudiant participa en activitats extraescolars, quina és la probabilitat que estudiï de manera regular?"
      ],
      "metadata": {
        "id": "3OdXWiuNhGRJ"
      }
    },
    {
      "cell_type": "code",
      "source": [
        "ie=gum.LazyPropagation(bn)\n",
        "gum.config['notebook','potential_visible_digits']=4\n",
        "ie.setEvidence({ae:1})\n",
        "ie.makeInference()\n",
        "#Probabilidades a posterior de saber que ae=1\n",
        "posterior=ie.posterior(er)\n",
        "posterior"
      ],
      "metadata": {
        "colab": {
          "base_uri": "https://localhost:8080/",
          "height": 83
        },
        "id": "obHA7ZmXbh2A",
        "outputId": "5809e4e4-ff5a-4e6c-bfab-a60d187b714f"
      },
      "execution_count": 7,
      "outputs": [
        {
          "output_type": "execute_result",
          "data": {
            "text/plain": [
              "(pyAgrum.Potential<double>@0x56c3477cd7d0) \n",
              "  Estudi regular   |\n",
              "0        |1        |\n",
              "---------|---------|\n",
              " 0.3600  | 0.6400  |"
            ],
            "text/html": [
              "<table style=\"border:1px solid black;border-collapse: collapse;\">\n",
              "<tr style='border:1px solid black;color:black;background-color:#808080'>\n",
              "      <th colspan='2'><center>Estudi regular</center></th></tr>\n",
              "<tr><th style='border:1px solid black;border-bottom-style: double;color:black;background-color:#BBBBBB'>\n",
              "      <center>0</center></th><th style='border:1px solid black;border-bottom-style: double;color:black;background-color:#BBBBBB'>\n",
              "      <center>1</center></th></tr>\n",
              "<tr><td style='color:black;background-color:#d0ad64;text-align:right;padding: 3px;'>0.3600</td><td style='color:black;background-color:#add064;text-align:right;padding: 3px;'>0.6400</td></tr>\n",
              "</table>"
            ]
          },
          "metadata": {},
          "execution_count": 7
        }
      ]
    },
    {
      "cell_type": "markdown",
      "source": [
        "Quina és la probabilitat que un estudiant tingui un bon rendiment acadèmic si sabem que no participa en classe i no té un bon nivell de son?"
      ],
      "metadata": {
        "id": "tJMc4IcNhMI5"
      }
    },
    {
      "cell_type": "code",
      "source": [
        "ie=gum.LazyPropagation(bn)\n",
        "gum.config['notebook','potential_visible_digits']=4\n",
        "ie.setEvidence({pec:0,ns:0})\n",
        "ie.makeInference()\n",
        "#Probabilidades a posterior de saber que pec=0 y ns=0\n",
        "posterior=ie.posterior(br)\n",
        "posterior"
      ],
      "metadata": {
        "colab": {
          "base_uri": "https://localhost:8080/",
          "height": 83
        },
        "id": "xnE4nHrWb3Qw",
        "outputId": "a2be4737-c98a-4d2d-c908-4ec3c32a4c78"
      },
      "execution_count": 8,
      "outputs": [
        {
          "output_type": "execute_result",
          "data": {
            "text/plain": [
              "(pyAgrum.Potential<double>@0x56c34797ac80) \n",
              "  Bon rendiment    |\n",
              "0        |1        |\n",
              "---------|---------|\n",
              " 0.7600  | 0.2400  |"
            ],
            "text/html": [
              "<table style=\"border:1px solid black;border-collapse: collapse;\">\n",
              "<tr style='border:1px solid black;color:black;background-color:#808080'>\n",
              "      <th colspan='2'><center>Bon rendiment</center></th></tr>\n",
              "<tr><th style='border:1px solid black;border-bottom-style: double;color:black;background-color:#BBBBBB'>\n",
              "      <center>0</center></th><th style='border:1px solid black;border-bottom-style: double;color:black;background-color:#BBBBBB'>\n",
              "      <center>1</center></th></tr>\n",
              "<tr><td style='color:black;background-color:#9de064;text-align:right;padding: 3px;'>0.7600</td><td style='color:black;background-color:#e09d64;text-align:right;padding: 3px;'>0.2400</td></tr>\n",
              "</table>"
            ]
          },
          "metadata": {},
          "execution_count": 8
        }
      ]
    }
  ]
}